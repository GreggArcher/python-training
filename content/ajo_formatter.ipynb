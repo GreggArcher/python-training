{
  "metadata": {
    "kernelspec": {
      "name": "python",
      "display_name": "Python (Pyodide)",
      "language": "python"
    },
    "language_info": {
      "codemirror_mode": {
        "name": "python",
        "version": 3
      },
      "file_extension": ".py",
      "mimetype": "text/x-python",
      "name": "python",
      "nbconvert_exporter": "python",
      "pygments_lexer": "ipython3",
      "version": "3.8"
    }
  },
  "nbformat_minor": 5,
  "nbformat": 4,
  "cells": [
    {
      "id": "e6a07991-9332-4e88-9a30-7e4d65394f4d",
      "cell_type": "code",
      "source": "#!/usr/bin/env python3\n# Read in an AJO audience description and format it for easier reading\n# This assumes the text is in a file called \"ajo_audience.txt\"\n# It will print the formatted text to the cell output\n\nimport sys\n\ndef format_conditions(raw_text):\n    \"\"\"\n    Takes a raw string of AND/OR conditions and indents them\n    to show hierarchy more clearly.\n    \"\"\"\n    lines = []\n    indent = 0\n    tokens = raw_text.replace(\"(\", \" ( \").replace(\")\", \" ) \").replace(\"\\n\",\" \").split()\n\n    for token in tokens:\n        if token == \"(\":\n            lines.append(\"    \" * indent + \"(\")\n            indent += 1\n        elif token == \")\":\n            indent -= 1\n            lines.append(\"    \" * indent + \")\")\n        elif token.upper() in (\"AND\", \"OR\"):\n            lines.append(\"    \" * indent + token)\n        else:\n            # Glue conditions together on same line\n            if not lines or lines[-1].strip() in (\"(\", \"AND\", \"OR\"):\n                lines.append(\"    \" * indent + token)\n            else:\n                lines[-1] += \" \" + token\n    return \"\\n\".join(lines)",
      "metadata": {
        "trusted": true
      },
      "outputs": [],
      "execution_count": 4
    },
    {
      "id": "36316411-2e21-4ec3-86d4-3bd66de8f258",
      "cell_type": "code",
      "source": "# Set filename to the name of the input file you want\n\n# Original demo file:\nfilename = \"ajo_audience.txt\"\n# Nelson's additional input file:\n# filename = \"857952_QualRules_Prod.txt\"\n\n# From the command-line demo script, but doesn't apply to running from a Jupyter notebook cell:\n# filename = sys.argv[1] if len(sys.argv) > 1 else \"ajo_audience.txt\"",
      "metadata": {
        "trusted": true
      },
      "outputs": [],
      "execution_count": 5
    },
    {
      "id": "c98350d0-1383-477f-9b6f-fa20eddaccb0",
      "cell_type": "code",
      "source": "try:\n    with open(filename, \"r\") as f:\n        raw_text = f.read()\nexcept (FileNotFoundError, PermissionError) as e:\n    print(f\"Cannot open file '{filename}'. Quitting\")\n    sys.exit(1)\n\nformatted = format_conditions(raw_text)\nprint(\"Formatted conditions:\\n\")\nprint(formatted)",
      "metadata": {
        "trusted": true
      },
      "outputs": [
        {
          "name": "stdout",
          "output_type": "stream",
          "text": "Formatted conditions:\n\nInclude MR_MBR_NOT_Okay_to_Contact_EXC does not include the audience\nAND\n(\n    (\n        Member OK to Mail Flag equals Y\n        OR\n        Member OK to Mail Flag does not exist\n    )\n    AND\n    MR Member Mailing Address Line 1 exists\n    AND\n    MR Member Mailing Address Line 1 does not equal\n    AND\n    MR Member Mailing Address City exists\n    AND\n    MR Member Mailing Address City does not equal\n    AND\n    MR Member Mailing Address State exists\n    AND\n    MR Member Mailing Address State does not equal\n    AND\n    MR Member Mailing Address Zip exists\n    AND\n    MR Member Mailing Address Zip does not equal\n    AND\n    MR Member Mailing Address Deliverable Flag equals Y\n)\nAND\n(\n    Best EID Flag does not exist\n    OR\n    Best EID Flag equals\n    OR\n    Best EID Flag equals Y\n)\nAND\nMR_Toolkit_EXC does not include the audience\nAND\n(\n    MR Member Plan Claim System Group Number does not equal 78013 nor 78014\n    AND\n    MR Member Plan Contract ID Code equals H2406-050-000\n    or H2406-099-000\n    or H7464-010-000\n    AND\n    MR Member Active Plan Flag equals Y\n    AND\n    (\n        MR Member Plan Coverage Term Date does not exist\n        OR\n        MR Member Plan Coverage Term Date occurs in next 1 to 3650 day\n        (\n            s\n        )\n    )\n)\nAND\n(\n    MR Member STARS Last Wellness Exam Date occurs before 01/01/2025\n    OR\n    MR Member STARS Last Wellness Exam Date does not exist\n    OR\n    MR Member STARS Gap BCS Status Current Year equals Open\n    OR\n    MR Member STARS Gap BCSE Status Current Year equals Open\n    OR\n    MR Member STARS Gap COL Status Current Year equals Open\n    OR\n    MR Member STARS Gap COLE Status Current Year equals Open\n    OR\n    MR Member STARS Gap EED Status Current Year equals Open\n    OR\n    MR Member STARS Gap KED Status Current Year equals Open\n    OR\n    (\n        MR Member STARS GAP Measure Abbr Code equals GSD9\n    )\n    AND\n    MR Member STARS GAP Year equals 2025\n    AND\n    MR Member STARS GAP Assumed Closure Flag equals 0\n)\nOR\nMR Member STARS Gap OMW Status Current Year equals Open\nOR\nMR Member STARS Gap OMW Status Current Year equals Open\n)\nAND\n(\nMR Member Assigned Provider TIN equals 521275587\nor 521572431\nor 521594116\nOR\nMR Member Associated Provider TIN equals 521275587\nor 521572431\nor 521594116\n)\n"
        }
      ],
      "execution_count": 6
    },
    {
      "id": "572831ee-df18-47c2-a1bf-de7c1209389e",
      "cell_type": "code",
      "source": "",
      "metadata": {
        "trusted": true
      },
      "outputs": [],
      "execution_count": null
    }
  ]
}