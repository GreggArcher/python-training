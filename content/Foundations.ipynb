{
  "metadata": {
    "kernelspec": {
      "name": "python",
      "display_name": "Python (Pyodide)",
      "language": "python"
    },
    "language_info": {
      "codemirror_mode": {
        "name": "python",
        "version": 3
      },
      "file_extension": ".py",
      "mimetype": "text/x-python",
      "name": "python",
      "nbconvert_exporter": "python",
      "pygments_lexer": "ipython3",
      "version": "3.8"
    }
  },
  "nbformat_minor": 5,
  "nbformat": 4,
  "cells": [
    {
      "id": "2032fd40",
      "cell_type": "markdown",
      "source": "# Hello, World!",
      "metadata": {}
    },
    {
      "id": "5515e07f",
      "cell_type": "code",
      "source": "print(\"Hello, World!\")",
      "metadata": {
        "trusted": true
      },
      "outputs": [],
      "execution_count": null
    },
    {
      "id": "499e112b-ac35-4f8c-8ef5-2dce8fe6d057",
      "cell_type": "markdown",
      "source": "# Note: the last value in a notebook cell is usually displayed automatically as part of its output",
      "metadata": {}
    },
    {
      "id": "e6f2bd8e-b2dd-4e24-83f0-209f98cc89fb",
      "cell_type": "markdown",
      "source": "# Comments",
      "metadata": {}
    },
    {
      "id": "d58887ec-c7c5-48c9-aacd-2a6d27f93574",
      "cell_type": "code",
      "source": "# this is a comment on a line by itself\nx = 1      # this is an end-of-line comment\n# x = 2    # not executed because it starts with '#'\nx",
      "metadata": {
        "trusted": true
      },
      "outputs": [],
      "execution_count": null
    },
    {
      "id": "98beee98-d3ac-4f49-852b-ca0a1157db19",
      "cell_type": "code",
      "source": "\"\"\"\nYou can use triple quotes to create blocks with \nmultiple lines to effectively comment them out.\nThis is sort of a side effect of the other \npurpose of triple quotes, which is to create \nmulti-line strings.\n\nx = 3\n\"\"\"\nx",
      "metadata": {
        "trusted": true
      },
      "outputs": [],
      "execution_count": null
    },
    {
      "id": "68e702c3-84b6-4b52-a235-0c3c195104ce",
      "cell_type": "markdown",
      "source": "# Outputs",
      "metadata": {}
    },
    {
      "id": "4faba156-350b-44c0-8803-95078ea66cfc",
      "cell_type": "code",
      "source": "# Simple output\nprint('Hello')",
      "metadata": {
        "trusted": true
      },
      "outputs": [],
      "execution_count": null
    },
    {
      "id": "fddcea01-c54b-46fc-9aa6-9a4479da8c6c",
      "cell_type": "code",
      "source": "# display() is specific to notebooks and can do more formatting when outputting things like pandas DataFrames\ndisplay('Hello again')",
      "metadata": {
        "trusted": true
      },
      "outputs": [],
      "execution_count": null
    },
    {
      "id": "b3cb1e63",
      "cell_type": "markdown",
      "source": "# Variables",
      "metadata": {}
    },
    {
      "id": "a2b8e1eb-85e5-43a2-a769-8f59148c5697",
      "cell_type": "code",
      "source": "name = 'Gregg'\nname",
      "metadata": {
        "trusted": true
      },
      "outputs": [],
      "execution_count": null
    },
    {
      "id": "a2dbdfce-584d-437c-abc0-7cc6636f6afc",
      "cell_type": "code",
      "source": "x = 1\nx",
      "metadata": {
        "trusted": true
      },
      "outputs": [],
      "execution_count": null
    },
    {
      "id": "965a113f-4c6d-44bd-b445-4808279ecc8d",
      "cell_type": "markdown",
      "source": "## Revisit outputs with variables and interpolation",
      "metadata": {}
    },
    {
      "id": "d30cb4a6-e8b2-4479-a666-5ce8c24e26f5",
      "cell_type": "code",
      "source": "print(name)",
      "metadata": {
        "trusted": true
      },
      "outputs": [],
      "execution_count": null
    },
    {
      "id": "a437b320-d9fd-492d-a9ab-144e94d11d8c",
      "cell_type": "code",
      "source": "name = 'Gregg'\n# use an \"f-string\" to interpolate a value\nprint(f'Hello, {name}')",
      "metadata": {
        "trusted": true
      },
      "outputs": [],
      "execution_count": null
    },
    {
      "id": "a715cca2-b362-4689-a967-7387737da450",
      "cell_type": "markdown",
      "source": "# Input from the keyboard into a variable",
      "metadata": {}
    },
    {
      "id": "6b115a2c-d2f1-478c-8e51-02b23b4d783f",
      "cell_type": "code",
      "source": "name = input()",
      "metadata": {
        "trusted": true
      },
      "outputs": [],
      "execution_count": null
    },
    {
      "id": "f0adba9f-4fac-47d8-aaf5-1097744b78f7",
      "cell_type": "code",
      "source": "print(f'Hello, {name}')",
      "metadata": {
        "trusted": true,
        "scrolled": true
      },
      "outputs": [],
      "execution_count": null
    },
    {
      "id": "dc4c34b6-1083-48db-98e0-00201f08da33",
      "cell_type": "markdown",
      "source": "# Indentation",
      "metadata": {}
    },
    {
      "id": "5aa9a29a-817e-47d7-98c7-0a9658918c6e",
      "cell_type": "code",
      "source": "# What do you think 'last_name' will be set to afterward?\n\n# set up variables\nfirst_name = 'Gregg'\nlast_name = 'Archer'\nchange_first = False\n\nif change_first:\n\ty = 2   # this is added here to show blocks can have more than 1 line\n\tfirst_name = 'Bob'   # this is conditionally executed because it's indented\nlast_name = 'Smith'      # this is always executed\n\nlast_name",
      "metadata": {
        "trusted": true
      },
      "outputs": [],
      "execution_count": null
    },
    {
      "id": "97a8e75f-4069-476d-bc8b-ed86aa9d3cb9",
      "cell_type": "markdown",
      "source": "# Data Types\n## Note that Python is a dynamically-typed language",
      "metadata": {}
    },
    {
      "id": "deeb062e-b907-469d-9ee8-160e4c777300",
      "cell_type": "markdown",
      "source": "## Strings",
      "metadata": {}
    },
    {
      "id": "e9a8911d-9ca8-4658-abcc-bd4817a1d15a",
      "cell_type": "code",
      "source": "name = 'Bob'\n# you can use type() to inspect the type of a variable\nprint(type(name))",
      "metadata": {
        "trusted": true,
        "scrolled": true
      },
      "outputs": [],
      "execution_count": null
    },
    {
      "id": "dbb84b9c-2c28-49c6-806c-d5b5dbe09f7b",
      "cell_type": "code",
      "source": "# nesting quotes\nquote1 = 'I can nest \"double quotes\" within single quotes'\n\nquote2 = \"And I can nest 'single quotes' within double quotes\"\n\nquote3 = \"\"\"\nOr we can have\nmulti-line strings\nwith triple quotes\n\"\"\"",
      "metadata": {
        "trusted": true
      },
      "outputs": [],
      "execution_count": null
    },
    {
      "id": "a57f2186-590c-489e-ac74-591c9539eea9",
      "cell_type": "markdown",
      "source": "## Numbers",
      "metadata": {}
    },
    {
      "id": "c4c6273c-d176-450c-b2d1-25e676966d61",
      "cell_type": "code",
      "source": "# integer\ni = 42\ni",
      "metadata": {
        "trusted": true
      },
      "outputs": [],
      "execution_count": null
    },
    {
      "id": "e87c0d3d-0d4b-47e6-bd70-04ef218efeb7",
      "cell_type": "code",
      "source": "# float\npi = 3.14\npi",
      "metadata": {
        "trusted": true
      },
      "outputs": [],
      "execution_count": null
    },
    {
      "id": "3406c999-b34d-4edb-a320-d3b4bb5a516a",
      "cell_type": "markdown",
      "source": "## Booleans",
      "metadata": {}
    },
    {
      "id": "ad05b9c3-5ac7-4771-b3ba-06648dc0b90c",
      "cell_type": "code",
      "source": "positive = True\nnegative = False\nprint(negative)",
      "metadata": {
        "trusted": true
      },
      "outputs": [],
      "execution_count": null
    },
    {
      "id": "89473358-ef34-42bb-b660-06f0273e7c6e",
      "cell_type": "markdown",
      "source": "# Operators",
      "metadata": {}
    },
    {
      "id": "550da8aa-cd1c-44ae-88fc-cdf3c578d9ec",
      "cell_type": "markdown",
      "source": "## Arithmetic",
      "metadata": {}
    },
    {
      "id": "52e1856c-6431-4dda-90a3-d84847fd435f",
      "cell_type": "code",
      "source": "pi = 3.14159            # approximately\nradius = input()\nradius = int(radius)    # convert the input string to an integer\narea = pi * (radius ** 2)\nprint(f'The area of the circle is {area}')",
      "metadata": {
        "trusted": true
      },
      "outputs": [],
      "execution_count": null
    },
    {
      "id": "7adf3384-e352-4078-bb1d-9d012fa6b67c",
      "cell_type": "markdown",
      "source": "## Comparison",
      "metadata": {}
    },
    {
      "id": "07d8967b-b795-4592-921a-07bd92bd2219",
      "cell_type": "code",
      "source": "print(1 < 2)",
      "metadata": {
        "trusted": true
      },
      "outputs": [],
      "execution_count": null
    },
    {
      "id": "d07f170d-9cf5-4be5-8a59-34a796ad80f9",
      "cell_type": "code",
      "source": "1 != 2",
      "metadata": {
        "trusted": true
      },
      "outputs": [],
      "execution_count": null
    },
    {
      "id": "97833907-e162-475e-a98b-d2a7a1a0aab8",
      "cell_type": "code",
      "source": "a = 10\nb = 10.0\na == b",
      "metadata": {
        "trusted": true
      },
      "outputs": [],
      "execution_count": null
    },
    {
      "id": "81eefed2-4214-4dd5-8ce8-49123072afbd",
      "cell_type": "markdown",
      "source": "## Logical / Boolean",
      "metadata": {}
    },
    {
      "id": "e948b7bd-4fbc-40f2-990e-94b31cad6d53",
      "cell_type": "code",
      "source": "positive = True\nnegative = False\n\nprint(positive)\nprint(not positive)",
      "metadata": {
        "trusted": true
      },
      "outputs": [],
      "execution_count": null
    },
    {
      "id": "0e13567e-963f-48d7-914d-88d6b5875c92",
      "cell_type": "code",
      "source": "positive and negative",
      "metadata": {
        "trusted": true
      },
      "outputs": [],
      "execution_count": null
    },
    {
      "id": "1458cf7f-2a36-4890-8148-76c6695a5a0a",
      "cell_type": "code",
      "source": "positive or negative",
      "metadata": {
        "trusted": true
      },
      "outputs": [],
      "execution_count": null
    },
    {
      "id": "5a8256d7-2ee7-4869-b267-50d0ad3465f9",
      "cell_type": "code",
      "source": "positive and not negative",
      "metadata": {
        "trusted": true
      },
      "outputs": [],
      "execution_count": null
    },
    {
      "id": "db3a5072-9dc8-482c-ac66-5e054cce7664",
      "cell_type": "markdown",
      "source": "# Control Structures",
      "metadata": {}
    },
    {
      "id": "d5bf12b3-d8e8-4894-b33e-5e1b10442770",
      "cell_type": "markdown",
      "source": "## if-then conditionals",
      "metadata": {}
    },
    {
      "id": "d97fafae-d339-4090-a385-f74eb578522d",
      "cell_type": "code",
      "source": "x = 0\nif x == 0:\n    name = 'Bob'\nelse:\n    name = 'Lisa'\nname",
      "metadata": {
        "trusted": true
      },
      "outputs": [],
      "execution_count": null
    },
    {
      "id": "a38eebc2-aafb-418c-92b1-aa3993a36f71",
      "cell_type": "code",
      "source": "x = 1\nif x == 0:\n    name = 'Bob'\nelif x == 1:\n    name = 'Lisa'\nelse:\n    name = 'Pat'\nname",
      "metadata": {
        "trusted": true
      },
      "outputs": [],
      "execution_count": null
    },
    {
      "id": "ff01a12d-327d-4efb-9838-195225f51ae4",
      "cell_type": "code",
      "source": "x = 2\nif x == 0:\n    name = 'Bob'\nelif x == 1:\n    name = 'Lisa'\nelse:\n    name = 'Pat'\nname",
      "metadata": {
        "trusted": true
      },
      "outputs": [],
      "execution_count": null
    },
    {
      "id": "8d058cf4-e449-4c20-a4ef-a295f2498da7",
      "cell_type": "code",
      "source": "# more compact one-line version\nx = 0\nname = 'Bob' if x == 1 else 'Lisa'\nname",
      "metadata": {
        "trusted": true
      },
      "outputs": [],
      "execution_count": null
    },
    {
      "id": "51ab4359-7c1f-4895-a538-15cc54cfa931",
      "cell_type": "markdown",
      "source": "## for loops",
      "metadata": {}
    },
    {
      "id": "e21d159b-f9e6-4de6-b0af-d492fcad9b95",
      "cell_type": "code",
      "source": "for i in range(5):\n    print(i)",
      "metadata": {
        "trusted": true
      },
      "outputs": [],
      "execution_count": null
    },
    {
      "id": "5a402a78-e544-4d3d-b21a-8b9dc8c8009d",
      "cell_type": "code",
      "source": "names = ['Bob', 'Lisa', 'Pat']   # this is a Python list, much like an array\nfor name in names:\n    print(name)",
      "metadata": {
        "trusted": true
      },
      "outputs": [],
      "execution_count": null
    },
    {
      "id": "4eaa2170-00e7-4b34-9910-f71afda29e9c",
      "cell_type": "markdown",
      "source": "## while loops",
      "metadata": {}
    },
    {
      "id": "ffb3cbd3-d30b-414f-8e75-525fc7f75980",
      "cell_type": "code",
      "source": "counter = 0\nwhile counter < 10:\n    print(counter)\n    counter += 1      # this increments counter \"in place\" by 1 each time",
      "metadata": {
        "trusted": true
      },
      "outputs": [],
      "execution_count": null
    },
    {
      "id": "8c14d89d-40c2-4837-986f-63e35eda5f12",
      "cell_type": "code",
      "source": "counter = 0\nwhile counter < 10:\n    print(counter)\n    if counter % 2 == 1:    # this is the modulo operator, returning the remainder after dividing\n        break         # break terminates the innermost loop\n    counter += 1      # this increments counter \"in place\" by 1 each time",
      "metadata": {
        "trusted": true
      },
      "outputs": [],
      "execution_count": null
    },
    {
      "id": "49faf1f1-adb8-4233-a713-d88941e37bff",
      "cell_type": "markdown",
      "source": "# Exercises",
      "metadata": {}
    },
    {
      "id": "f77a0854-4d85-4c8c-a398-9253503a37ce",
      "cell_type": "markdown",
      "source": "## Exercise 1\nWrite a script that does the following:\n1. Asks the user for two numbers\n2. Prints their sum, difference, product, and quotient\n\n### Hints:\n1. Recall the function used to gather user input and save it in a variable\n2. Refer to the arithmetic operators we looked at earlier",
      "metadata": {}
    },
    {
      "id": "ca0e57d2-f31e-42b5-8570-ad32429f92f8",
      "cell_type": "code",
      "source": "# PUT YOUR SOLUTION HERE\n",
      "metadata": {
        "trusted": true
      },
      "outputs": [],
      "execution_count": null
    },
    {
      "id": "5e063dd0-78c2-4463-87ea-df406e630661",
      "cell_type": "code",
      "source": "",
      "metadata": {
        "trusted": true
      },
      "outputs": [],
      "execution_count": null
    },
    {
      "id": "40a8a587-c60a-4fd5-8658-4bd154337f61",
      "cell_type": "markdown",
      "source": "### Possible solution to Exercise 1\nPlease don't unhide the cell below until you are ready to view the solution.",
      "metadata": {
        "jp-MarkdownHeadingCollapsed": true
      }
    },
    {
      "id": "756b499b-96eb-4f64-b02e-c8986dc7a0fa",
      "cell_type": "code",
      "source": "a = float(input(\"Enter first number: \"))\nb = float(input(\"Enter second number: \"))\nprint(\"Sum:\", a + b)\nprint(\"Difference:\", a - b)\nprint(\"Product:\", a * b)\nprint(\"Quotient:\", a / b if b != 0 else \"undefined (division by zero)\")",
      "metadata": {
        "trusted": true
      },
      "outputs": [],
      "execution_count": null
    },
    {
      "id": "73ec57a1-0a04-467a-84c1-003a05d9f50b",
      "cell_type": "markdown",
      "source": "## Exercise 2\nBuild a Number Guessing Game:\n1. Generate a random number between 1 and 10\n2. Let the user keep guessing until they get it right\n3. Give a hint each time if the guess is too high or too low\n\n### Hints:\n1. Start with `import random` to import the package that allows us to generate random numbers\n2. Use `random.randint(1, 10)` to generate a random integer between 1 and 10, inclusive\n3. Use a loop to keep prompting until the user guesses correctly",
      "metadata": {}
    },
    {
      "id": "0301ddd0-12a3-4a98-aa54-944b7e8f119e",
      "cell_type": "code",
      "source": "# PUT YOUR SOLUTION HERE\nimport random\n# put more code here...\n",
      "metadata": {
        "trusted": true
      },
      "outputs": [],
      "execution_count": null
    },
    {
      "id": "8b4d7bfd-68a6-40f9-bbb9-95d698b99e92",
      "cell_type": "code",
      "source": "",
      "metadata": {
        "trusted": true
      },
      "outputs": [],
      "execution_count": null
    },
    {
      "id": "3bc5d2c8-9a4b-402a-85b6-e8f5d52c61a6",
      "cell_type": "markdown",
      "source": "### Possible solution to Exercise 2\nPlease don't unhide the cell below until you are ready to view the solution.",
      "metadata": {
        "jp-MarkdownHeadingCollapsed": true
      }
    },
    {
      "id": "52da623a-20a1-4869-a89e-412e20c10b3e",
      "cell_type": "code",
      "source": "import random\nsecret = random.randint(1, 10)\nwhile True:\n    guess = int(input(\"Guess a number (1-10): \"))\n    if guess == secret:\n        print(\"You got it!\")\n        break\n    print(\"Too low\" if guess < secret else \"Too high\")",
      "metadata": {
        "trusted": true
      },
      "outputs": [],
      "execution_count": null
    }
  ]
}