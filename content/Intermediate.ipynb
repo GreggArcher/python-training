{
  "metadata": {
    "kernelspec": {
      "name": "python",
      "display_name": "Python (Pyodide)",
      "language": "python"
    },
    "language_info": {
      "codemirror_mode": {
        "name": "python",
        "version": 3
      },
      "file_extension": ".py",
      "mimetype": "text/x-python",
      "name": "python",
      "nbconvert_exporter": "python",
      "pygments_lexer": "ipython3",
      "version": "3.8"
    }
  },
  "nbformat_minor": 5,
  "nbformat": 4,
  "cells": [
    {
      "id": "a53d547f-0175-406b-8c7c-2ba207876bcd",
      "cell_type": "markdown",
      "source": "# Libraries & Packages & Modules, Oh My!",
      "metadata": {}
    },
    {
      "id": "af194e4b-3dbf-4df9-be89-ce23f7455180",
      "cell_type": "code",
      "source": "import numpy as np   # library\nprint(np.__version__)",
      "metadata": {
        "trusted": true
      },
      "outputs": [],
      "execution_count": null
    },
    {
      "id": "299260d8-3f17-4c1b-97dd-bcb582679262",
      "cell_type": "code",
      "source": "import random\nprint(random.randint(1, 10))\n\nfrom random import randint\nrandint(1, 10)   # can now use randint without the qualifier in front",
      "metadata": {
        "trusted": true
      },
      "outputs": [],
      "execution_count": null
    },
    {
      "id": "fb09784d-42b3-4deb-b738-852dd690f8a3",
      "cell_type": "markdown",
      "source": "# Functions",
      "metadata": {}
    },
    {
      "id": "d7acb707-8214-46d5-a7e6-6ed2452cbb89",
      "cell_type": "code",
      "source": "def hello():\n\tprint('Hello, World!')\n\nhello()  # this will print out the “Hello, World!” string",
      "metadata": {
        "trusted": true
      },
      "outputs": [],
      "execution_count": null
    },
    {
      "id": "55030f60-e61f-4843-90fc-e7b8e3990898",
      "cell_type": "code",
      "source": "def make_name(given_name, surname):    # these are “positional” parameters\n\treturn f'{given_name} {surname}'\n\nprint(f'Hello, {make_name(\"Gregg\", \"Archer\")}!')",
      "metadata": {
        "trusted": true
      },
      "outputs": [],
      "execution_count": null
    },
    {
      "id": "2daf8d1f-ee39-4c0c-9e47-972dbdb49677",
      "cell_type": "code",
      "source": "def make_name(given_name='Bob', surname=None):  # specify a default or None\n\treturn f'{given_name} {surname}'\n    \nprint(f'Hello, {make_name(surname=\"Archer\", given_name=\"Gregg\")}!')  # can be any order",
      "metadata": {
        "trusted": true
      },
      "outputs": [],
      "execution_count": null
    },
    {
      "id": "5c81b3c6-73ba-4362-a2cb-0a3c437ffe4b",
      "cell_type": "code",
      "source": "def make_name(given_name: str, surname: str) -> str:  # enforce strings coming in and going out\n\treturn f'{given_name} {surname}'\n    \nprint(f'Hello, {make_name(\"Gregg\", \"Archer\")}!')",
      "metadata": {
        "trusted": true
      },
      "outputs": [],
      "execution_count": null
    },
    {
      "id": "3b29b345-96df-405f-851d-b179a26f2ea9",
      "cell_type": "markdown",
      "source": "# Tuples",
      "metadata": {}
    },
    {
      "id": "409ea8ee-a2e7-4e6f-af77-178d8be343d9",
      "cell_type": "code",
      "source": "picture_size = (8, 10)\npicture_size",
      "metadata": {
        "trusted": true
      },
      "outputs": [],
      "execution_count": null
    },
    {
      "id": "8a5ef89c-34d8-4eff-8584-38b3eae93f09",
      "cell_type": "code",
      "source": "image_attributes = ('photo', 8, 10, 'color')\nimage_attributes",
      "metadata": {
        "trusted": true
      },
      "outputs": [],
      "execution_count": null
    },
    {
      "id": "2e30defb-d29c-4048-ac86-cb5507f39795",
      "cell_type": "code",
      "source": "image_attributes[1]",
      "metadata": {
        "trusted": true
      },
      "outputs": [],
      "execution_count": null
    },
    {
      "id": "4b24bfa3-55ef-4396-b016-613e27aee334",
      "cell_type": "code",
      "source": "(foo, bar, _, _) = image_attributes\nfoo, bar",
      "metadata": {
        "trusted": true
      },
      "outputs": [],
      "execution_count": null
    },
    {
      "id": "33bd413f-70b5-4d25-95f7-e86745170ee7",
      "cell_type": "markdown",
      "source": "# Dictionaries",
      "metadata": {}
    },
    {
      "id": "8883007d-6faa-4512-ad5b-bfc606d5980e",
      "cell_type": "code",
      "source": "picture = {\n    'pic_type': 'photo',\n    'width': 8,\n    'height': 10,\n    'color_type': 'color'\n}\n\nprint(picture['pic_type'])\nprint(picture['height'])",
      "metadata": {
        "trusted": true
      },
      "outputs": [],
      "execution_count": null
    },
    {
      "id": "fc4cc5fb-a221-4097-a277-d5c812f1c437",
      "cell_type": "code",
      "source": "for key, value in picture.items():   # loop through all items in the dictionary\n    print(f'{key}: {value}')",
      "metadata": {
        "trusted": true
      },
      "outputs": [],
      "execution_count": null
    },
    {
      "id": "1dcac9d6-fd1a-4c40-a44b-3ed324a96373",
      "cell_type": "markdown",
      "source": "# Sets",
      "metadata": {}
    },
    {
      "id": "7ebeed43-b132-4788-8161-3be77b2bc2d8",
      "cell_type": "code",
      "source": "colors = {\"red\", \"orange\", \"yellow\", \"green\", \"blue\", \"indigo\", \"violet\"}\nif \"red\" in colors:\n    print(\"It's in there!\")",
      "metadata": {
        "trusted": true
      },
      "outputs": [],
      "execution_count": null
    },
    {
      "id": "3840fac2-98d1-4188-b798-3ec2c1c259b0",
      "cell_type": "markdown",
      "source": "# Lists",
      "metadata": {}
    },
    {
      "id": "f903b538-20f5-454d-89e5-c4268e548e18",
      "cell_type": "code",
      "source": "colors = [\"red\", \"orange\", \"yellow\", \"green\", \"blue\", \"indigo\", \"violet\"]\nprint(colors[0])   # prints ‘red’\ncolors.append(\"purple\")    # append at the end\ncolors.insert(0, \"brown\")  # insert at the beginning because of the 0 parameter\ncolors",
      "metadata": {
        "trusted": true
      },
      "outputs": [],
      "execution_count": null
    },
    {
      "id": "9f94413f-0db9-45d7-bc44-8ac02e8338d0",
      "cell_type": "code",
      "source": "# list comprehension\nshort_colors = [x for x in colors if len(x) <= 4]  # just colors with short names\nshort_colors",
      "metadata": {
        "trusted": true
      },
      "outputs": [],
      "execution_count": null
    },
    {
      "id": "cf4c0cc5-8e39-4010-adc5-b059ca779931",
      "cell_type": "markdown",
      "source": "# Slices and Indexing",
      "metadata": {}
    },
    {
      "id": "78fee427-1e37-4a09-aca5-7fc129e160ed",
      "cell_type": "code",
      "source": "colors = [\"red\", \"orange\", \"yellow\", \"green\", \"blue\", \"indigo\", \"violet\"]\nprint(colors[0:2])   # prints [‘red’, ‘orange’] & excludes the top index\nprint(colors[:2])    # same as above\nprint(colors[5:])    # prints [‘indigo’, ‘violet’]\nprint(colors[-1])    # prints violet because it counts from the end - note that this is not a list",
      "metadata": {
        "trusted": true
      },
      "outputs": [],
      "execution_count": null
    },
    {
      "id": "6a344240-f7d0-4896-9cea-ac8c15a6a305",
      "cell_type": "markdown",
      "source": "# String Operations",
      "metadata": {}
    },
    {
      "id": "2b69732c-a1c7-4b7b-bb2d-87336d1bf0b0",
      "cell_type": "code",
      "source": "# Characters within strings can be indexed\nname = 'Bob'\nprint(name[2])    # prints 'b'",
      "metadata": {
        "trusted": true
      },
      "outputs": [],
      "execution_count": null
    },
    {
      "id": "e9ceaf86-db09-4f3f-bdb9-c5cd6992d15f",
      "cell_type": "code",
      "source": "# Slicing works, too\nname = 'Bob'\nprint(name[0:2])    # prints ‘Bo’ – excludes top number\nprint(name[:1])     # prints ‘B’  - excludes top number\nprint(name[-1])     # prints ‘b’",
      "metadata": {
        "trusted": true
      },
      "outputs": [],
      "execution_count": null
    },
    {
      "id": "55f53f2d-c871-40d8-846f-c5e15b3ba609",
      "cell_type": "code",
      "source": "# A few other useful string functions and operations\nname = 'This is an example'\nprint(name.lower())           # to lowercase\nprint(name.upper())           # to uppercase\nprint(name.replace(' ','-'))  # replace spaces with hyphens\nprint(name.split(' '))        # create a list of the words\nprint(name + '!')             # concatenation\nprint(\"1234\".isdigit())       # True because all characters are digits",
      "metadata": {
        "trusted": true
      },
      "outputs": [],
      "execution_count": null
    },
    {
      "id": "a354b56f-f47b-406e-ac50-6c3812e1ee6f",
      "cell_type": "markdown",
      "source": "# File Input/Output",
      "metadata": {}
    },
    {
      "id": "28c08c68-d82c-4f54-85ed-34758b5dec7f",
      "cell_type": "code",
      "source": "with open(\"myfile.txt\", \"w\") as f:     # use ‘a’ as 2nd param to append or ‘w’ to overwrite\n\tf.write(\"This will be written into the file\")\n# file is automatically closed when the ‘with’ block ends (due to outdenting)\n\nwith open(\"myfile.txt\", \"r\") as f:     # ‘r’ to read, which is the default if missing\n\ttext = f.readline()  # first line, or use f.read() to read entire file into 1 string\n\tprint(text)",
      "metadata": {
        "trusted": true
      },
      "outputs": [],
      "execution_count": null
    },
    {
      "id": "b86a4309-b6a5-45ee-b360-7e9e350203b5",
      "cell_type": "markdown",
      "source": "# Error Handling",
      "metadata": {}
    },
    {
      "id": "92f86490-079d-4b6f-bf5d-e58f2d1ab909",
      "cell_type": "code",
      "source": "import sys\ntry:       # the code that might fail goes in the try section\n    a = 5\n    b = 0\n    c = a / b\nexcept:    # this section executed when the problem occurs\n    print(f'Exception occurred: {sys.exception()}')\nelse:      # if no problem, then the ‘else’ section is executed\n    print('Everything is fine')\nfinally:   # the ‘finally’ block is always executed at the end\n    print('All done with the exception handling')",
      "metadata": {
        "trusted": true
      },
      "outputs": [],
      "execution_count": null
    },
    {
      "id": "18e89a3e-452f-456e-b666-ea46f88d8d45",
      "cell_type": "markdown",
      "source": "# Exercises",
      "metadata": {}
    },
    {
      "id": "5b4c0d77-11bd-4cf1-83e2-551fddd020fd",
      "cell_type": "markdown",
      "source": "## Exercise 1\nWrite a script that does the following:\n1. Create a function called reverse()\n2. Have it accept a keyword parameter called 'string'\n3. Have it return the parameter string in reverse order.\n4. Call the function, passing in 'forward' and getting back a return of 'drawrof'\n5. Print the 2nd through 4th characters of the returned string. This should be 'raw'.\n\n### Hints:\n1. You may use the len(string_value) to get the length of a string",
      "metadata": {}
    },
    {
      "id": "c13ec8bd-9cba-4070-bf78-1e73b39549a9",
      "cell_type": "code",
      "source": "# PUT YOUR SOLUTION HERE\n",
      "metadata": {
        "trusted": true
      },
      "outputs": [],
      "execution_count": null
    },
    {
      "id": "9ac1016a-6ec4-41d1-8bda-78f8d0b1781d",
      "cell_type": "code",
      "source": "",
      "metadata": {
        "trusted": true
      },
      "outputs": [],
      "execution_count": null
    },
    {
      "id": "d9c4d107-7b3d-412b-9c56-c7e9bca81e65",
      "cell_type": "markdown",
      "source": "### Possible solution to Exercise 1\nPlease don't unhide the cell below until you are ready to view the solution.",
      "metadata": {
        "jp-MarkdownHeadingCollapsed": true
      }
    },
    {
      "id": "410a842e-22b3-46b2-b5c7-8050c6773a87",
      "cell_type": "code",
      "source": "def reverse(string=None):\n    result = ''\n    i = len(string) - 1          # remember to subtract 1\n    while i >= 0:\n        result += string[i]      # string indexing\n        i -= 1\n    return result\n\nresult = reverse(string='forward')\nprint(result[1:4])               # the slice returns indexes 1 through 3",
      "metadata": {
        "trusted": true
      },
      "outputs": [],
      "execution_count": null
    },
    {
      "id": "fed6feb8-43dc-4765-9afe-dd7c0ecbec34",
      "cell_type": "markdown",
      "source": "## Exercise 2\nRead in a comma-separated file and print out the 2nd and 3rd fields from each line\n1. Open the 'data.csv' file\n2. Read in the lines one-by-one\n3. Catch and handle the exception if a given line doesn't have at least 3 fields in it\n\n### Hints:\n1. When trying to access an index that is out of bounds, you will get an exception called IndexError\n2. The method to use to break up a string with a certain delimiter is called 'split()' and you pass the delimiter as the parameter",
      "metadata": {}
    },
    {
      "id": "97f8181f-1a4d-4e48-8be3-3f1245e77cfe",
      "cell_type": "code",
      "source": "# PUT YOUR SOLUTION HERE\n",
      "metadata": {
        "trusted": true
      },
      "outputs": [],
      "execution_count": null
    },
    {
      "id": "d310c915-8ae2-4583-b4fb-4abfd02cf755",
      "cell_type": "code",
      "source": "",
      "metadata": {
        "trusted": true
      },
      "outputs": [],
      "execution_count": null
    },
    {
      "id": "a74386ba-4be1-469c-9480-aeb1467077d3",
      "cell_type": "markdown",
      "source": "### Possible solution to Exercise 2\nPlease don't unhide the cell below until you are ready to view the solution.",
      "metadata": {
        "jp-MarkdownHeadingCollapsed": true
      }
    },
    {
      "id": "f13cbc52-0671-4a9a-af93-de5c9be36b4e",
      "cell_type": "code",
      "source": "with open(\"data.csv\", \"r\") as f:\n    for line in f:\n        fields = line.split(\",\")\n        try:\n            # print(fields[1:3])  # could use this, but it doesn't trigger the exception\n            print(f'{fields[1]}, {fields[2]}')\n        except IndexError:\n            print(f\"Not enough fields → {fields}\")",
      "metadata": {
        "trusted": true
      },
      "outputs": [],
      "execution_count": null
    }
  ]
}